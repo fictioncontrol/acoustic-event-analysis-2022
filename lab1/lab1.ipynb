{
  "nbformat": 4,
  "nbformat_minor": 0,
  "metadata": {
    "colab": {
      "provenance": []
    },
    "kernelspec": {
      "name": "python3",
      "display_name": "Python 3"
    },
    "language_info": {
      "name": "python"
    }
  },
  "cells": [
    {
      "cell_type": "code",
      "execution_count": null,
      "metadata": {
        "id": "cORLHCQfh7S0"
      },
      "outputs": [],
      "source": [
        "from google.colab import drive\n",
        "drive.mount('/content/drive')\n",
        "!cp '/content/drive/MyDrive/temporary/acou/train.csv' .\n",
        "!unzip '/content/drive/MyDrive/temporary/acou/audio_train.zip'"
      ]
    },
    {
      "cell_type": "code",
      "source": [
        "from sklearn import svm"
      ],
      "metadata": {
        "id": "ST7uDWJeOWuO"
      },
      "execution_count": 2,
      "outputs": []
    },
    {
      "cell_type": "code",
      "source": [
        "import librosa\n",
        "from librosa.feature import mfcc\n",
        "from librosa.core import load"
      ],
      "metadata": {
        "id": "up1dkSexiMjG"
      },
      "execution_count": 3,
      "outputs": []
    },
    {
      "cell_type": "code",
      "source": [
        "import os\n",
        "from tqdm import tqdm\n",
        "import pickle\n",
        "import pandas as pd\n",
        "import numpy as np\n",
        "from librosa.core import load as load_wav\n",
        "from librosa import power_to_db\n",
        "\n",
        "# constructing data - dicts of fname, mfccs, label \n",
        "def get_mfcc_features(file, dir, sr, fft_size, hop, n_mfcc):\n",
        "\n",
        "    features = []\n",
        "    dataset_info = pd.read_csv(file, skiprows=1, names=['fname', 'label'])\n",
        "    file_names = list(dataset_info['fname'])\n",
        "    n_files = len(file_names)\n",
        "    labels = list(dataset_info['label'])\n",
        "    unique_labels = np.sort(np.unique(labels))\n",
        "    label_encoding = {label: i for i, label in enumerate(unique_labels)}\n",
        "\n",
        "    print('Number of files:', n_files)\n",
        "\n",
        "    for i, (file_name, label) in tqdm(enumerate(zip(file_names, labels))):\n",
        "        wav_data, sr = load_wav(os.path.join(dir, file_name))\n",
        "        # print(sr)\n",
        "\n",
        "        mfccs = mfcc(wav_data, n_mfcc = n_mfcc, n_fft=fft_size, hop_length=hop, fmax=sr // 2)\n",
        "        features.append({\n",
        "            'fname': file_name,\n",
        "            'mfcc': mfccs,\n",
        "            'label': label_encoding[label]\n",
        "        })\n",
        "    pickle.dump(features, open('features.pickle', 'wb'))    \n",
        "    return label_encoding"
      ],
      "metadata": {
        "id": "VP1S9eT6o4DK"
      },
      "execution_count": 10,
      "outputs": []
    },
    {
      "cell_type": "code",
      "source": [
        "train_folder = './train/'\n",
        "sr = 22050\n",
        "fft_size = 2048\n",
        "hop_length = 512\n",
        "n_mfcc = 80"
      ],
      "metadata": {
        "id": "bj-R8ILTpAcK"
      },
      "execution_count": 8,
      "outputs": []
    },
    {
      "cell_type": "code",
      "source": [
        "csv_file = 'train.csv'\n",
        "pickle_features = 'train.pickle'\n",
        "\n",
        "labels = get_mfcc_features(csv_file, train_folder, sr, fft_size, hop_length, n_mfcc)"
      ],
      "metadata": {
        "colab": {
          "base_uri": "https://localhost:8080/"
        },
        "id": "9WjUhnlCpNSk",
        "outputId": "15cf3c83-b686-4024-ea84-ce25667609a6"
      },
      "execution_count": 26,
      "outputs": [
        {
          "output_type": "stream",
          "name": "stdout",
          "text": [
            "Number of files: 5683\n",
            "5683it [19:45,  4.79it/s]\n"
          ]
        }
      ]
    },
    {
      "cell_type": "code",
      "source": [
        "# padding (or cutting) mfccs to the same length\n",
        "def mfcc_to_feature(mfcc, length_th=256):\n",
        "  if mfcc.shape[1] < length_th:\n",
        "    npad = [(0, 0), (0, length_th-mfcc.shape[1])]\n",
        "    feature = np.pad(mfcc, pad_width=npad, mode='reflect')\n",
        "  else:\n",
        "    feature=mfcc[:,:length_th]\n",
        "  return feature"
      ],
      "metadata": {
        "id": "cR5e_HtSySJB"
      },
      "execution_count": 12,
      "outputs": []
    },
    {
      "cell_type": "code",
      "source": [
        "train_mfccs = pickle.load(open('features.pickle', 'rb'))"
      ],
      "metadata": {
        "id": "MgURcDW3unqj"
      },
      "execution_count": 13,
      "outputs": []
    },
    {
      "cell_type": "code",
      "source": [
        "features = []\n",
        "labels = []\n",
        "for sample in train_mfccs:\n",
        "  feature_ = mfcc_to_feature(sample['mfcc'])\n",
        "  features.append(feature_.flatten())\n",
        "  labels.append(sample['label'])"
      ],
      "metadata": {
        "id": "mt1i56lgxz5z"
      },
      "execution_count": 15,
      "outputs": []
    },
    {
      "cell_type": "code",
      "source": [
        "# pickle.dump(features, open('/content/drive/MyDrive/temporary/acou/feats', 'wb'))\n",
        "# pickle.dump(labels, open('/content/drive/MyDrive/temporary/acou/labels', 'wb')) "
      ],
      "metadata": {
        "id": "8pNRbRDVHjxO"
      },
      "execution_count": null,
      "outputs": []
    },
    {
      "cell_type": "code",
      "source": [
        "# features = pickle.load(open('/content/drive/MyDrive/temporary/acou/feats', 'rb'))\n",
        "# labels = pickle.load(open('/content/drive/MyDrive/temporary/acou/labels', 'rb'))"
      ],
      "metadata": {
        "id": "kq5OwooVN76G"
      },
      "execution_count": null,
      "outputs": []
    },
    {
      "cell_type": "code",
      "source": [
        "from sklearn.model_selection import train_test_split\n",
        "\n",
        "X_train, X_test, y_train, y_test = train_test_split(features, labels, \n",
        "                                                    test_size=0.2, \n",
        "                                                    random_state=0, shuffle=True)"
      ],
      "metadata": {
        "id": "AYg_1mIR7lcZ"
      },
      "execution_count": 16,
      "outputs": []
    },
    {
      "cell_type": "code",
      "source": [
        "from sklearn.metrics import accuracy_score"
      ],
      "metadata": {
        "id": "rFudf7qsSvVG"
      },
      "execution_count": 17,
      "outputs": []
    },
    {
      "cell_type": "code",
      "source": [
        "# use svc to classificate prepared data\n",
        "clf = svm.SVC(C=0.9, tol=1e-6, random_state=42, kernel='linear', )\n",
        "clf.fit(X_train, y_train)\n",
        "y_pred = clf.predict(X_test)\n",
        "\n",
        "acc = accuracy_score(y_test, y_pred)\n",
        "print(f'accuracy score: {acc}')"
      ],
      "metadata": {
        "colab": {
          "base_uri": "https://localhost:8080/"
        },
        "id": "9svYngG4Ufux",
        "outputId": "5223d927-fca7-42a8-bacf-b112c6b455bf"
      },
      "execution_count": 22,
      "outputs": [
        {
          "output_type": "stream",
          "name": "stdout",
          "text": [
            "accuracy score: 0.5617414248021109\n"
          ]
        }
      ]
    },
    {
      "cell_type": "code",
      "source": [],
      "metadata": {
        "id": "XXvi04qAIV0r"
      },
      "execution_count": null,
      "outputs": []
    }
  ]
}